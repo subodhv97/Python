{
 "cells": [
  {
   "cell_type": "code",
   "execution_count": 4,
   "metadata": {},
   "outputs": [
    {
     "name": "stdout",
     "output_type": "stream",
     "text": [
      "6565 65 65656   878  5 5 7898 5 1 2  8 7 5 54  8 5 58 8 4 5 87 4 5 5 4 4 78 8 8  8 88 8 45 4 45 48 87  54 1 5 45 48 787   45 45 454 54 54 54 5878 78 8 8 4 54 5 45 48 7 45 45 45 457 87 87 85 45 45 45 22 2 1 65 892558875 5445 1 5 58 74 8984521  47 8 5 1 2 5 87  5224  7 5 5 5 55555555 5 87 4 2  55  4 4 5 5 8 7 4 2 2 4 4  885 8 77 88   5 5 4 545454848 54 54 8788 5 2 24 584 87 8455 415 45 487 87 54 5 41255  89 484 5 1\n",
      "[6565, 65, 65656, 878, 5, 5, 7898, 5, 1, 2, 8, 7, 5, 54, 8, 5, 58, 8, 4, 5, 87, 4, 5, 5, 4, 4, 78, 8, 8, 8, 88, 8, 45, 4, 45, 48, 87, 54, 1, 5, 45, 48, 787, 45, 45, 454, 54, 54, 54, 5878, 78, 8, 8, 4, 54, 5, 45, 48, 7, 45, 45, 45, 457, 87, 87, 85, 45, 45, 45, 22, 2, 1, 65, 892558875, 5445, 1, 5, 58, 74, 8984521, 47, 8, 5, 1, 2, 5, 87, 5224, 7, 5, 5, 5, 55555555, 5, 87, 4, 2, 55, 4, 4, 5, 5, 8, 7, 4, 2, 2, 4, 4, 885, 8, 77, 88, 5, 5, 4, 545454848, 54, 54, 8788, 5, 2, 24, 584, 87, 8455, 415, 45, 487, 87, 54, 5, 41255, 89, 484, 5, 1]\n"
     ]
    }
   ],
   "source": [
    "A = [int(i) for i in input().split()]\n",
    "\n",
    "print(A)"
   ]
  },
  {
   "cell_type": "code",
   "execution_count": 5,
   "metadata": {},
   "outputs": [
    {
     "name": "stdout",
     "output_type": "stream",
     "text": [
      "after sorting array is:\n",
      "[1, 1, 1, 1, 1, 1, 2, 2, 2, 2, 2, 2, 2, 4, 4, 4, 4, 4, 4, 4, 4, 4, 4, 4, 4, 4, 5, 5, 5, 5, 5, 5, 5, 5, 5, 5, 5, 5, 5, 5, 5, 5, 5, 5, 5, 5, 5, 5, 5, 5, 7, 7, 7, 7, 8, 8, 8, 8, 8, 8, 8, 8, 8, 8, 8, 8, 22, 24, 45, 45, 45, 45, 45, 45, 45, 45, 45, 45, 45, 45, 45, 47, 48, 48, 48, 54, 54, 54, 54, 54, 54, 54, 54, 54, 55, 58, 58, 65, 65, 74, 77, 78, 78, 85, 87, 87, 87, 87, 87, 87, 87, 87, 88, 88, 89, 415, 454, 457, 484, 487, 584, 787, 878, 885, 5224, 5445, 5878, 6565, 7898, 8455, 8788, 41255, 65656, 8984521, 55555555, 545454848, 892558875]\n",
      "Required_time: 0.00099945068359375 seconds\n"
     ]
    }
   ],
   "source": [
    "import time\n",
    "c = time.time()\n",
    "def insertionsort(A):\n",
    "    for i in range(0,len(A)):\n",
    "        key = A[i]\n",
    "        j = i-1\n",
    "        while j>=0 and A[j]>key:\n",
    "            A[j+1] = A[j]\n",
    "            j = j-1\n",
    "        A[j+1] = key\n",
    "insertionsort(A)\n",
    "print(\"after sorting array is:\")\n",
    "sort_array = []\n",
    "for i in range(0,len(A)):\n",
    "    sort_array.append(A[i])\n",
    "print(sort_array)  \n",
    "\n",
    "d = time.time()\n",
    "print(\"Required_time:\",d-c , \"seconds\")"
   ]
  },
  {
   "cell_type": "code",
   "execution_count": null,
   "metadata": {},
   "outputs": [],
   "source": []
  },
  {
   "cell_type": "code",
   "execution_count": null,
   "metadata": {},
   "outputs": [],
   "source": []
  }
 ],
 "metadata": {
  "kernelspec": {
   "display_name": "Python 3",
   "language": "python",
   "name": "python3"
  },
  "language_info": {
   "codemirror_mode": {
    "name": "ipython",
    "version": 3
   },
   "file_extension": ".py",
   "mimetype": "text/x-python",
   "name": "python",
   "nbconvert_exporter": "python",
   "pygments_lexer": "ipython3",
   "version": "3.7.3"
  }
 },
 "nbformat": 4,
 "nbformat_minor": 2
}
