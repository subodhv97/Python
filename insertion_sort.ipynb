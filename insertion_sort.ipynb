{
 "cells": [
  {
   "cell_type": "code",
   "execution_count": null,
   "metadata": {},
   "outputs": [
    {
     "name": "stdout",
     "output_type": "stream",
     "text": [
      "Enter the numbers want to sort with space after each one:\n"
     ]
    }
   ],
   "source": [
    "#Taking input for sorting \n",
    "print(\"Enter the numbers want to sort with space after each one:\")\n",
    "A = [int(i) for i in input().split()]\n",
    "#input taken\n",
    "print(A)"
   ]
  },
  {
   "cell_type": "code",
   "execution_count": null,
   "metadata": {},
   "outputs": [],
   "source": [
    "#Impoting Time library to check how much time algorithms takes to do sorting :)\n",
    "import time\n",
    "c = time.time()\n",
    "#Defining finction for Insertion sort:)\n",
    "def insertionsort(A):\n",
    "    for i in range(0,len(A)):\n",
    "        key = A[i]\n",
    "        j = i-1\n",
    "        while j>=0 and A[j]>key:\n",
    "            A[j+1] = A[j]\n",
    "            j = j-1\n",
    "        A[j+1] = key\n",
    "#Calling the functon:)\n",
    "insertionsort(A)\n",
    "print(\"after sorting array is:\")\n",
    "sort_array = []\n",
    "for i in range(0,len(A)):\n",
    "    sort_array.append(A[i])\n",
    "print(sort_array)  \n",
    "#Printing time Taken by Algorithm\n",
    "d = time.time()\n",
    "print(\"Required_time:\",d-c , \"seconds\")"
   ]
  }
 ],
 "metadata": {
  "kernelspec": {
   "display_name": "Python 3",
   "language": "python",
   "name": "python3"
  },
  "language_info": {
   "codemirror_mode": {
    "name": "ipython",
    "version": 3
   },
   "file_extension": ".py",
   "mimetype": "text/x-python",
   "name": "python",
   "nbconvert_exporter": "python",
   "pygments_lexer": "ipython3",
   "version": "3.7.3"
  }
 },
 "nbformat": 4,
 "nbformat_minor": 2
}
